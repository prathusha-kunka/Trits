{
 "cells": [
  {
   "cell_type": "code",
   "execution_count": 1,
   "metadata": {},
   "outputs": [
    {
     "data": {
      "text/html": [
       "<div>\n",
       "<style>\n",
       "    .dataframe thead tr:only-child th {\n",
       "        text-align: right;\n",
       "    }\n",
       "\n",
       "    .dataframe thead th {\n",
       "        text-align: left;\n",
       "    }\n",
       "\n",
       "    .dataframe tbody tr th {\n",
       "        vertical-align: top;\n",
       "    }\n",
       "</style>\n",
       "<table border=\"1\" class=\"dataframe\">\n",
       "  <thead>\n",
       "    <tr style=\"text-align: right;\">\n",
       "      <th></th>\n",
       "      <th>Calendar Year</th>\n",
       "      <th>Receipt Amount</th>\n",
       "      <th>Amount in USD</th>\n",
       "    </tr>\n",
       "  </thead>\n",
       "  <tbody>\n",
       "    <tr>\n",
       "      <th>Calendar Year</th>\n",
       "      <td>1.000000</td>\n",
       "      <td>0.015272</td>\n",
       "      <td>0.036902</td>\n",
       "    </tr>\n",
       "    <tr>\n",
       "      <th>Receipt Amount</th>\n",
       "      <td>0.015272</td>\n",
       "      <td>1.000000</td>\n",
       "      <td>-0.036916</td>\n",
       "    </tr>\n",
       "    <tr>\n",
       "      <th>Amount in USD</th>\n",
       "      <td>0.036902</td>\n",
       "      <td>-0.036916</td>\n",
       "      <td>1.000000</td>\n",
       "    </tr>\n",
       "  </tbody>\n",
       "</table>\n",
       "</div>"
      ],
      "text/plain": [
       "                Calendar Year  Receipt Amount  Amount in USD\n",
       "Calendar Year        1.000000        0.015272       0.036902\n",
       "Receipt Amount       0.015272        1.000000      -0.036916\n",
       "Amount in USD        0.036902       -0.036916       1.000000"
      ]
     },
     "execution_count": 1,
     "metadata": {},
     "output_type": "execute_result"
    }
   ],
   "source": [
    "import pandas as pd\n",
    "import matplotlib.pyplot as plt\n",
    "%matplotlib inline\n",
    "df=pd.read_csv(\"C:/Users/venkat/Desktop/CSE/IDS/Project/dataset.csv\")\n",
    "df.corr()"
   ]
  },
  {
   "cell_type": "code",
   "execution_count": 2,
   "metadata": {},
   "outputs": [
    {
     "data": {
      "text/html": [
       "<div>\n",
       "<style>\n",
       "    .dataframe thead tr:only-child th {\n",
       "        text-align: right;\n",
       "    }\n",
       "\n",
       "    .dataframe thead th {\n",
       "        text-align: left;\n",
       "    }\n",
       "\n",
       "    .dataframe tbody tr th {\n",
       "        vertical-align: top;\n",
       "    }\n",
       "</style>\n",
       "<table border=\"1\" class=\"dataframe\">\n",
       "  <thead>\n",
       "    <tr style=\"text-align: right;\">\n",
       "      <th></th>\n",
       "      <th>Calendar Year</th>\n",
       "      <th>Receipt Amount</th>\n",
       "      <th>Amount in USD</th>\n",
       "    </tr>\n",
       "  </thead>\n",
       "  <tbody>\n",
       "    <tr>\n",
       "      <th>Calendar Year</th>\n",
       "      <td>1.000000</td>\n",
       "      <td>0.015272</td>\n",
       "      <td>0.036902</td>\n",
       "    </tr>\n",
       "    <tr>\n",
       "      <th>Receipt Amount</th>\n",
       "      <td>0.015272</td>\n",
       "      <td>1.000000</td>\n",
       "      <td>-0.036916</td>\n",
       "    </tr>\n",
       "    <tr>\n",
       "      <th>Amount in USD</th>\n",
       "      <td>0.036902</td>\n",
       "      <td>-0.036916</td>\n",
       "      <td>1.000000</td>\n",
       "    </tr>\n",
       "  </tbody>\n",
       "</table>\n",
       "</div>"
      ],
      "text/plain": [
       "                Calendar Year  Receipt Amount  Amount in USD\n",
       "Calendar Year        1.000000        0.015272       0.036902\n",
       "Receipt Amount       0.015272        1.000000      -0.036916\n",
       "Amount in USD        0.036902       -0.036916       1.000000"
      ]
     },
     "execution_count": 2,
     "metadata": {},
     "output_type": "execute_result"
    }
   ],
   "source": [
    "df.corr(method='pearson')"
   ]
  },
  {
   "cell_type": "code",
   "execution_count": 3,
   "metadata": {},
   "outputs": [
    {
     "data": {
      "text/html": [
       "<div>\n",
       "<style>\n",
       "    .dataframe thead tr:only-child th {\n",
       "        text-align: right;\n",
       "    }\n",
       "\n",
       "    .dataframe thead th {\n",
       "        text-align: left;\n",
       "    }\n",
       "\n",
       "    .dataframe tbody tr th {\n",
       "        vertical-align: top;\n",
       "    }\n",
       "</style>\n",
       "<table border=\"1\" class=\"dataframe\">\n",
       "  <thead>\n",
       "    <tr style=\"text-align: right;\">\n",
       "      <th></th>\n",
       "      <th>Calendar Year</th>\n",
       "      <th>Receipt Amount</th>\n",
       "      <th>Amount in USD</th>\n",
       "    </tr>\n",
       "  </thead>\n",
       "  <tbody>\n",
       "    <tr>\n",
       "      <th>Calendar Year</th>\n",
       "      <td>1.000000</td>\n",
       "      <td>0.040271</td>\n",
       "      <td>0.018732</td>\n",
       "    </tr>\n",
       "    <tr>\n",
       "      <th>Receipt Amount</th>\n",
       "      <td>0.040271</td>\n",
       "      <td>1.000000</td>\n",
       "      <td>0.639677</td>\n",
       "    </tr>\n",
       "    <tr>\n",
       "      <th>Amount in USD</th>\n",
       "      <td>0.018732</td>\n",
       "      <td>0.639677</td>\n",
       "      <td>1.000000</td>\n",
       "    </tr>\n",
       "  </tbody>\n",
       "</table>\n",
       "</div>"
      ],
      "text/plain": [
       "                Calendar Year  Receipt Amount  Amount in USD\n",
       "Calendar Year        1.000000        0.040271       0.018732\n",
       "Receipt Amount       0.040271        1.000000       0.639677\n",
       "Amount in USD        0.018732        0.639677       1.000000"
      ]
     },
     "execution_count": 3,
     "metadata": {},
     "output_type": "execute_result"
    }
   ],
   "source": [
    "df.corr(method='kendall')"
   ]
  },
  {
   "cell_type": "code",
   "execution_count": 4,
   "metadata": {},
   "outputs": [
    {
     "data": {
      "text/html": [
       "<div>\n",
       "<style>\n",
       "    .dataframe thead tr:only-child th {\n",
       "        text-align: right;\n",
       "    }\n",
       "\n",
       "    .dataframe thead th {\n",
       "        text-align: left;\n",
       "    }\n",
       "\n",
       "    .dataframe tbody tr th {\n",
       "        vertical-align: top;\n",
       "    }\n",
       "</style>\n",
       "<table border=\"1\" class=\"dataframe\">\n",
       "  <thead>\n",
       "    <tr style=\"text-align: right;\">\n",
       "      <th></th>\n",
       "      <th>Calendar Year</th>\n",
       "      <th>Receipt Amount</th>\n",
       "      <th>Amount in USD</th>\n",
       "    </tr>\n",
       "  </thead>\n",
       "  <tbody>\n",
       "    <tr>\n",
       "      <th>Calendar Year</th>\n",
       "      <td>1.000000</td>\n",
       "      <td>0.065550</td>\n",
       "      <td>0.030165</td>\n",
       "    </tr>\n",
       "    <tr>\n",
       "      <th>Receipt Amount</th>\n",
       "      <td>0.065550</td>\n",
       "      <td>1.000000</td>\n",
       "      <td>0.703762</td>\n",
       "    </tr>\n",
       "    <tr>\n",
       "      <th>Amount in USD</th>\n",
       "      <td>0.030165</td>\n",
       "      <td>0.703762</td>\n",
       "      <td>1.000000</td>\n",
       "    </tr>\n",
       "  </tbody>\n",
       "</table>\n",
       "</div>"
      ],
      "text/plain": [
       "                Calendar Year  Receipt Amount  Amount in USD\n",
       "Calendar Year        1.000000        0.065550       0.030165\n",
       "Receipt Amount       0.065550        1.000000       0.703762\n",
       "Amount in USD        0.030165        0.703762       1.000000"
      ]
     },
     "execution_count": 4,
     "metadata": {},
     "output_type": "execute_result"
    }
   ],
   "source": [
    "df.corr(method='spearman')"
   ]
  },
  {
   "cell_type": "code",
   "execution_count": null,
   "metadata": {},
   "outputs": [],
   "source": []
  },
  {
   "cell_type": "code",
   "execution_count": null,
   "metadata": {
    "collapsed": true
   },
   "outputs": [],
   "source": []
  }
 ],
 "metadata": {
  "kernelspec": {
   "display_name": "Python 3",
   "language": "python",
   "name": "python3"
  },
  "language_info": {
   "codemirror_mode": {
    "name": "ipython",
    "version": 3
   },
   "file_extension": ".py",
   "mimetype": "text/x-python",
   "name": "python",
   "nbconvert_exporter": "python",
   "pygments_lexer": "ipython3",
   "version": "3.6.3"
  }
 },
 "nbformat": 4,
 "nbformat_minor": 2
}
