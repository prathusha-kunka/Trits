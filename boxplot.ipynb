{
 "cells": [
  {
   "cell_type": "code",
   "execution_count": 3,
   "metadata": {},
   "outputs": [
    {
     "name": "stdout",
     "output_type": "stream",
     "text": [
      "[2, 12, 14, 15, 20, 27, 35, 54, 56, 57, 58, 105, 134, 135, 136, 137, 139, 140, 193, 194, 195, 196, 197, 198, 199, 200, 206, 214, 215, 253, 257, 260, 261, 262, 286, 297, 305, 310, 327, 329, 349, 353, 354, 357, 368, 369, 378, 383, 389, 401, 413, 416, 428, 429, 442, 445, 449, 460, 476, 479, 489, 492, 493, 523, 525, 526, 531, 545, 561, 565, 567, 568, 584, 593, 596]\n"
     ]
    },
    {
     "data": {
      "image/png": "[encoded data removed]",
      "text/plain": [
       "<matplotlib.figure.Figure at 0xdb189d0a90>"
      ]
     },
     "metadata": {},
     "output_type": "display_data"
    }
   ],
   "source": [
    "%matplotlib inline\n",
    "import pandas as pd\n",
    "import matplotlib.pyplot as plt\n",
    "df=pd.read_csv(\"C:/Users/venkat/Desktop/CSE/IDS/Project/dataset.csv\")\n",
    "l=[]\n",
    "country=list(df['Donor Name'])\n",
    "for i in range(0,len(country)):\n",
    "    if(country[i]=='Brazil' or country[i]=='India' or country[i]=='Japan' or country[i]=='China' or country[i]=='United States'):\n",
    "        l.append(i)\n",
    "print(l)\n",
    "plt.title('Box plol of Donor Name')\n",
    "plt.boxplot(l)\n",
    "plt.show()"
   ]
  },
  {
   "cell_type": "code",
   "execution_count": 2,
   "metadata": {
    "collapsed": true
   },
   "outputs": [],
   "source": []
  },
  {
   "cell_type": "code",
   "execution_count": null,
   "metadata": {},
   "outputs": [],
   "source": []
  },
  {
   "cell_type": "code",
   "execution_count": null,
   "metadata": {
    "collapsed": true
   },
   "outputs": [],
   "source": []
  }
 ],
 "metadata": {
  "kernelspec": {
   "display_name": "Python 3",
   "language": "python",
   "name": "python3"
  },
  "language_info": {
   "codemirror_mode": {
    "name": "ipython",
    "version": 3
   },
   "file_extension": ".py",
   "mimetype": "text/x-python",
   "name": "python",
   "nbconvert_exporter": "python",
   "pygments_lexer": "ipython3",
   "version": "3.6.3"
  }
 },
 "nbformat": 4,
 "nbformat_minor": 2
}
